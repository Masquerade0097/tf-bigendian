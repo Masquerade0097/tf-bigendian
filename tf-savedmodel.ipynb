{
  "nbformat": 4,
  "nbformat_minor": 0,
  "metadata": {
    "kernelspec": {
      "display_name": "Python 3",
      "language": "python",
      "name": "python3"
    },
    "language_info": {
      "codemirror_mode": {
        "name": "ipython",
        "version": 3
      },
      "file_extension": ".py",
      "mimetype": "text/x-python",
      "name": "python",
      "nbconvert_exporter": "python",
      "pygments_lexer": "ipython3",
      "version": "3.7.7"
    },
    "colab": {
      "name": "ByteSwap-SavedModel.ipynb",
      "provenance": [],
      "collapsed_sections": []
    }
  },
  "cells": [
    {
      "cell_type": "code",
      "metadata": {
        "id": "ZzmfFj0USehs"
      },
      "source": [
        "!pip install tensorflow"
      ],
      "execution_count": null,
      "outputs": []
    },
    {
      "cell_type": "code",
      "metadata": {
        "id": "xpQMA6ZAJuty"
      },
      "source": [
        "import tensorflow as tf"
      ],
      "execution_count": 2,
      "outputs": []
    },
    {
      "cell_type": "code",
      "metadata": {
        "id": "OtXahsMuJut5",
        "outputId": "31a9bbbd-fbe1-4baf-bacd-f2aaaf81b437",
        "colab": {
          "base_uri": "https://localhost:8080/",
          "height": 36
        }
      },
      "source": [
        "tf.__version__"
      ],
      "execution_count": 3,
      "outputs": [
        {
          "output_type": "execute_result",
          "data": {
            "application/vnd.google.colaboratory.intrinsic+json": {
              "type": "string"
            },
            "text/plain": [
              "'2.3.0'"
            ]
          },
          "metadata": {
            "tags": []
          },
          "execution_count": 3
        }
      ]
    },
    {
      "cell_type": "code",
      "metadata": {
        "id": "WoebFFpmJut_",
        "outputId": "f744d407-4792-4838-9195-e6a5000f501d",
        "colab": {
          "base_uri": "https://localhost:8080/",
          "height": 35
        }
      },
      "source": [
        "# Generated Python module for tensorflow/core/framework/tensor.proto:\n",
        "tf.core.framework.tensor_pb2"
      ],
      "execution_count": 4,
      "outputs": [
        {
          "output_type": "execute_result",
          "data": {
            "text/plain": [
              "<module 'tensorflow.core.framework.tensor_pb2' from '/usr/local/lib/python3.6/dist-packages/tensorflow/core/framework/tensor_pb2.py'>"
            ]
          },
          "metadata": {
            "tags": []
          },
          "execution_count": 4
        }
      ]
    },
    {
      "cell_type": "code",
      "metadata": {
        "id": "YpYgouHZJuuC",
        "outputId": "6036af65-c963-4a92-da12-e358e17a2570",
        "colab": {
          "base_uri": "https://localhost:8080/",
          "height": 35
        }
      },
      "source": [
        "# Generated Python module for tensorflow/core/protobuf/saved_model.proto:\n",
        "tf.core.protobuf.saved_model_pb2"
      ],
      "execution_count": 5,
      "outputs": [
        {
          "output_type": "execute_result",
          "data": {
            "text/plain": [
              "<module 'tensorflow.core.protobuf.saved_model_pb2' from '/usr/local/lib/python3.6/dist-packages/tensorflow/core/protobuf/saved_model_pb2.py'>"
            ]
          },
          "metadata": {
            "tags": []
          },
          "execution_count": 5
        }
      ]
    },
    {
      "cell_type": "code",
      "metadata": {
        "id": "hv5Pgv1MJuuF",
        "outputId": "2fb8e65b-2e94-4146-b549-6e026b03243a",
        "colab": {
          "base_uri": "https://localhost:8080/",
          "height": 366
        }
      },
      "source": [
        "# Contents of the generated Python module:\n",
        "dir(tf.core.protobuf.saved_model_pb2)"
      ],
      "execution_count": 6,
      "outputs": [
        {
          "output_type": "execute_result",
          "data": {
            "text/plain": [
              "['DESCRIPTOR',\n",
              " 'SavedModel',\n",
              " '_SAVEDMODEL',\n",
              " '__builtins__',\n",
              " '__cached__',\n",
              " '__doc__',\n",
              " '__file__',\n",
              " '__loader__',\n",
              " '__name__',\n",
              " '__package__',\n",
              " '__spec__',\n",
              " '_b',\n",
              " '_descriptor',\n",
              " '_message',\n",
              " '_reflection',\n",
              " '_sym_db',\n",
              " '_symbol_database',\n",
              " 'sys',\n",
              " 'tensorflow_dot_core_dot_protobuf_dot_meta__graph__pb2']"
            ]
          },
          "metadata": {
            "tags": []
          },
          "execution_count": 6
        }
      ]
    },
    {
      "cell_type": "code",
      "metadata": {
        "id": "Ch04XzjsJuuL",
        "outputId": "d1307ad0-51ef-433a-a713-5031194178a3",
        "colab": {
          "base_uri": "https://localhost:8080/",
          "height": 256
        }
      },
      "source": [
        "!wget 'http://download.tensorflow.org/models/object_detection/ssd_mobilenet_v1_coco_2018_01_28.tar.gz'\n",
        "!tar -xzf ssd_mobilenet_v1_coco_2018_01_28.tar.gz\n",
        "%cd ssd_mobilenet_v1_coco_2018_01_28/\n",
        "\n",
        "pb_file_name = \"saved_model/saved_model.pb\"\n",
        "with open(pb_file_name, \"rb\") as f:\n",
        "    binary_data = f.read()\n",
        "\n",
        "len(binary_data)"
      ],
      "execution_count": 7,
      "outputs": [
        {
          "output_type": "stream",
          "text": [
            "--2020-09-28 02:11:42--  http://download.tensorflow.org/models/object_detection/ssd_mobilenet_v1_coco_2018_01_28.tar.gz\n",
            "Resolving download.tensorflow.org (download.tensorflow.org)... 173.194.195.128, 2607:f8b0:4001:c11::80\n",
            "Connecting to download.tensorflow.org (download.tensorflow.org)|173.194.195.128|:80... connected.\n",
            "HTTP request sent, awaiting response... 200 OK\n",
            "Length: 76541073 (73M) [application/x-tar]\n",
            "Saving to: ‘ssd_mobilenet_v1_coco_2018_01_28.tar.gz’\n",
            "\n",
            "ssd_mobilenet_v1_co 100%[===================>]  73.00M   242MB/s    in 0.3s    \n",
            "\n",
            "2020-09-28 02:11:42 (242 MB/s) - ‘ssd_mobilenet_v1_coco_2018_01_28.tar.gz’ saved [76541073/76541073]\n",
            "\n",
            "/content/ssd_mobilenet_v1_coco_2018_01_28\n"
          ],
          "name": "stdout"
        },
        {
          "output_type": "execute_result",
          "data": {
            "text/plain": [
              "29700424"
            ]
          },
          "metadata": {
            "tags": []
          },
          "execution_count": 7
        }
      ]
    },
    {
      "cell_type": "code",
      "metadata": {
        "id": "k0JZPZBKJuuP"
      },
      "source": [
        "saved_model_proto = tf.core.protobuf.saved_model_pb2.SavedModel.FromString(binary_data)\n",
        "# print(saved_model_proto)"
      ],
      "execution_count": 8,
      "outputs": []
    },
    {
      "cell_type": "code",
      "metadata": {
        "id": "7soUygEFJuuS",
        "outputId": "b46059a0-bce6-4f28-b3a4-ce89f4bc5562",
        "colab": {
          "base_uri": "https://localhost:8080/",
          "height": 35
        }
      },
      "source": [
        "print(f\"{len(saved_model_proto.meta_graphs)} MetaGraphDefs in this SavedModel\")\n",
        "meta_graph_proto = saved_model_proto.meta_graphs[0]\n",
        "graph_def_proto = meta_graph_proto.graph_def\n",
        "\n",
        "# print(meta_graph_proto)\n",
        "# print(graph_def_proto)"
      ],
      "execution_count": 9,
      "outputs": [
        {
          "output_type": "stream",
          "text": [
            "1 MetaGraphDefs in this SavedModel\n"
          ],
          "name": "stdout"
        }
      ]
    },
    {
      "cell_type": "code",
      "metadata": {
        "id": "y7O-gWLn5ldA"
      },
      "source": [
        "import numpy as np\n",
        "\n",
        "# Byte swap the\n",
        "def swap16(x):\n",
        "  return np.frombuffer(x, dtype=np.uint16).byteswap().tobytes()\n",
        "\n",
        "def swap32(x):\n",
        "  return np.frombuffer(x, dtype=np.uint32).byteswap().tobytes()\n",
        "\n",
        "def swap64(x):\n",
        "  return np.frombuffer(x, dtype=np.uint64).byteswap().tobytes()\n",
        "\n",
        "def byte_swap_array(content, bytes_per_elem):\n",
        "    if bytes_per_elem == 1:\n",
        "      return content\n",
        "\n",
        "    elif bytes_per_elem == 2:\n",
        "      return swap16(content)\n",
        "\n",
        "    elif bytes_per_elem == 4:\n",
        "      return swap32(content)\n",
        "\n",
        "    elif bytes_per_elem == 8:\n",
        "      return swap64(content)\n",
        "\n",
        "    else:\n",
        "      return content"
      ],
      "execution_count": 10,
      "outputs": []
    },
    {
      "cell_type": "code",
      "metadata": {
        "id": "RYxdHsI7JuuU"
      },
      "source": [
        "set_allowed = set([tf.string, tf.qint8, tf.quint8, tf.bool, tf.int8, tf.uint8])\n",
        "set_16bits = set([tf.bfloat16, tf.half, tf.qint16, tf.quint16, tf.uint16, tf.int16])\n",
        "set_32bits = set([tf.float32, tf.int32, tf.qint32, tf.uint32])\n",
        "set_64bits = set([tf.int64, tf.uint64, tf.double])\n",
        "\n",
        "# Separate the tensors according to tf.dtype of their tensor_content\n",
        "def byte_swap_tensor(orig_tensor) -> bytes:\n",
        "\n",
        "    datatype = orig_tensor.dtype\n",
        "    content = orig_tensor.tensor_content\n",
        "    bytes_per_elem = 0\n",
        "\n",
        "    if datatype in set_allowed:\n",
        "      bytes_per_elem = 1\n",
        "    elif datatype in set_16bits:\n",
        "      bytes_per_elem = 2\n",
        "    elif datatype in set_32bits:\n",
        "      bytes_per_elem = 4\n",
        "    elif datatype in set_64bits:\n",
        "      bytes_per_elem = 8\n",
        "    elif datatype in set_complex64:\n",
        "      bytes_per_elem = 4\n",
        "    elif datatype in set_complex128:\n",
        "      bytes_per_elem = 8\n",
        "    else:\n",
        "      print(\"Byteswapping not supported for datatype\")\n",
        "      return content\n",
        "  \n",
        "    return byte_swap_array(content, bytes_per_elem)"
      ],
      "execution_count": 11,
      "outputs": []
    },
    {
      "cell_type": "code",
      "metadata": {
        "id": "qRTxyRlSJuuX"
      },
      "source": [
        "# Iterate over the nodes of graphs in the top-level graph\n",
        "for n in graph_def_proto.node:\n",
        "    # print(n.name)\n",
        "    for attr_name in n.attr:\n",
        "        attr_value = n.attr[attr_name]\n",
        "        if attr_value.HasField(\"tensor\"):   \n",
        "            tensor_value = attr_value.tensor\n",
        "            if len(tensor_value.tensor_content) > 0:\n",
        "              print(f\"       Before: {attr_name} => {tensor_value.tensor_content}\")\n",
        "              swapped_tensor_content = byte_swap_tensor(tensor_value)\n",
        "              tensor_value.tensor_content = swapped_tensor_content\n",
        "              print(f\"       After: {attr_name} => {tensor_value.tensor_content}\")"
      ],
      "execution_count": null,
      "outputs": []
    },
    {
      "cell_type": "code",
      "metadata": {
        "id": "pNXD05IKJuua"
      },
      "source": [
        "# Pass 2: Iterate over the graph of each function in the top-level graph's function library\n",
        "for f in graph_def_proto.library.function:\n",
        "    # print(f.signature.name)\n",
        "    for n in f.node_def:\n",
        "        # print(f\"   {n.name}\")\n",
        "        for attr_name in n.attr:\n",
        "            attr_value = n.attr[attr_name]\n",
        "            if attr_value.HasField(\"tensor\"):   \n",
        "                tensor_value = attr_value.tensor\n",
        "                if len(tensor_value.tensor_content) > 0:\n",
        "                    print(f\"       Before: {attr_name} => {tensor_value.tensor_content}\")\n",
        "                    swapped_tensor_content = byte_swap_tensor(tensor_value)\n",
        "                    tensor_value.tensor_content = swapped_tensor_content\n",
        "                    print(f\"       After: {attr_name} => {tensor_value.tensor_content}\")                "
      ],
      "execution_count": 13,
      "outputs": []
    },
    {
      "cell_type": "code",
      "metadata": {
        "scrolled": true,
        "id": "lIhILpQvJuue"
      },
      "source": [
        "# Our SavedModel message after modifications\n",
        "saved_model_proto"
      ],
      "execution_count": 14,
      "outputs": []
    },
    {
      "cell_type": "code",
      "metadata": {
        "id": "uiHGj183Juug"
      },
      "source": [
        "binary_saved_model_proto = graph_def_proto.SerializeToString()\n",
        "len(binary_saved_model_proto)"
      ],
      "execution_count": null,
      "outputs": []
    },
    {
      "cell_type": "code",
      "metadata": {
        "id": "n6z-ZbtOJuum"
      },
      "source": [
        "with open(\"swapped_saved_model.pb\", \"wb\") as f:\n",
        "    f.write(binary_saved_model_proto)"
      ],
      "execution_count": null,
      "outputs": []
    },
    {
      "cell_type": "code",
      "metadata": {
        "id": "cJOkAKlFd9qW"
      },
      "source": [
        ""
      ],
      "execution_count": null,
      "outputs": []
    }
  ]
}